{
 "cells": [
  {
   "cell_type": "code",
   "execution_count": 36,
   "metadata": {},
   "outputs": [
    {
     "name": "stdout",
     "output_type": "stream",
     "text": [
      "视频已获得授权[爱心]\n",
      "以后再也不抱怨堵车了，\n",
      "因为那才是繁华大道。\n",
      "以后也不再嫌人山人海了，\n",
      "因为那才是国泰民安。\n",
      "中国，加油！\n",
      "有一天太阳会升起在某个清晨♡有的歌真的要到特定的场景里才能感受到歌里所蕴含的情感…这首歌是毛不易在医院实习时写的，他当时每天看到的，就是现在全国的一个小缩影吧…再听这首歌，只有满心的震撼\n",
      "那有什么白衣天使，只不过是一群孩子穿上白衣服，学着前辈的样子治病救人罢了！\n",
      "想哭  真的很感动\n",
      "我们像期盼春天的到来一样期盼新闻里的好消息\n",
      "所谓的太平盛世，不过是有人为我们负重前行。\n",
      "你们辛苦了，我们等你们！回来\n",
      "武汉加油！中国加油！\n",
      "好想哭，每次看到视频中的送餐小哥、工作中的医生、躺在病床上的患者就有一股酸楚涌动全身，加上毛老师温柔而伤感的声音已经抑制不住了呜呜\n",
      "医者仁心，我们伟大的医护人员也有自己的家庭，有自己多层的社会角色，他们不只是白衣天使，还是父母，还是儿女，希望我们能多一分理解，多一分善良，为在前线视死如归的医护工作人员加油！平安归来！💙向你们致敬！\n",
      "听到那句“妈妈在打怪兽呢”眼泪就掉下来了\n",
      "一个人在做一件小事，一群人在做一件事，一个国家在做一件大事，十四亿人同做一件事。\n",
      "武汉加油，中国加油！\n",
      "中国总是被最勇敢的人保护的很好\n",
      "武汉加油，中国加油！🇨🇳\n",
      "武汉只是暂时被病毒藏起来了！武汉一定可以挺过去的！武汉加油！中国加油！\n",
      "哭了，武汉加油[爱心]\n",
      "武汉加油，中国加油！谢谢啊！那些无私付出的人，谢谢那些替我们守护和保卫我们的家的人。加油！你们一定可以的，我相信你们。加油！\n"
     ]
    }
   ],
   "source": [
    "import requests\n",
    "import json\n",
    "\n",
    "url = 'https://music.163.com/weapi/v1/resource/comments/R_VI_62_3F79C7B87510106B8118EE3F811C1BC5?csrf_token='\n",
    "\n",
    "headers = {\n",
    "   'User-Agent':'Mozilla/5.0 (Windows NT 6.1; Win64; x64) AppleWebKit/537.36 (KHTML, like Gecko) Chrome/64.0.3282.140 Safari/537.36',\n",
    "   'Referer':'https://music.163.com/video?id=3F79C7B87510106B8118EE3F811C1BC5&userid=265996751',\n",
    "   'Origin':'http://music.163.com',\n",
    "   'Host':'music.163.com'\n",
    "}\n",
    "user_data = {\n",
    "   'params': 'fphfDEFeIs3I+ybqkBQhWxvB8GFOB0RMrmOS1VfB9ljX0CWccYd5WPdfRk6iaPuhllQcpKweUTwKc7GyZZENbB99O3C/vdhEeChuxLK8Rl40hb/ipmhXIxbJ1KRMemNFF+jTQqdFUnw3HNdrUqSzjmfh/HP630vmp4HVL6i+oSDygse0C1JUgS5d5Six93R7r8b3tKUCnPw/JJbH3AXTlA==',\n",
    "   'encSecKey': 'a658168c2225f0dfe46e9b260abb348691c42946ec46e6f4a5c434e86d6d546da0fcb7de0dba750422c40064b026169a453f5e42c59f63c38c7749c0e81023dd27978f1e5d97b6c97fa70df347737b51a69fc15b49b2e3e209c53eefcf7d795b6344404811e84761c700422ef57a427e84bc77adece15146ca62033b3f2aacfd'\n",
    "}\n",
    "\n",
    "response = requests.post(url,headers=headers,data=user_data).text\n",
    "with open('music.json','w',encoding='utf-8') as f:\n",
    "    f.write(response)\n",
    "f.close()\n",
    "data=json.loads(response)\n",
    "for i in data['hotComments']:\n",
    "    print(i['content'])"
   ]
  },
  {
   "cell_type": "code",
   "execution_count": null,
   "metadata": {},
   "outputs": [],
   "source": []
  },
  {
   "cell_type": "code",
   "execution_count": 8,
   "metadata": {},
   "outputs": [
    {
     "ename": "ValueError",
     "evalue": "We need at least 1 word to plot a word cloud, got 0.",
     "output_type": "error",
     "traceback": [
      "\u001b[1;31m---------------------------------------------------------------------------\u001b[0m",
      "\u001b[1;31mValueError\u001b[0m                                Traceback (most recent call last)",
      "\u001b[1;32m<ipython-input-8-4df25ebfb1da>\u001b[0m in \u001b[0;36m<module>\u001b[1;34m\u001b[0m\n\u001b[0;32m     13\u001b[0m    \u001b[0mfont_path\u001b[0m\u001b[1;33m=\u001b[0m\u001b[1;34m\"msyh.ttc\"\u001b[0m\u001b[1;33m,\u001b[0m\u001b[1;33m\u001b[0m\u001b[1;33m\u001b[0m\u001b[0m\n\u001b[0;32m     14\u001b[0m    \u001b[1;31m#设置了背景，宽高\u001b[0m\u001b[1;33m\u001b[0m\u001b[1;33m\u001b[0m\u001b[1;33m\u001b[0m\u001b[0m\n\u001b[1;32m---> 15\u001b[1;33m    background_color=\"black\",width=2000,height=880).generate(cut_text)\n\u001b[0m\u001b[0;32m     16\u001b[0m \u001b[1;33m\u001b[0m\u001b[0m\n\u001b[0;32m     17\u001b[0m \u001b[0mplt\u001b[0m\u001b[1;33m.\u001b[0m\u001b[0mimshow\u001b[0m\u001b[1;33m(\u001b[0m\u001b[0mwordcloud\u001b[0m\u001b[1;33m,\u001b[0m \u001b[0minterpolation\u001b[0m\u001b[1;33m=\u001b[0m\u001b[1;34m\"bilinear\"\u001b[0m\u001b[1;33m)\u001b[0m\u001b[1;33m\u001b[0m\u001b[1;33m\u001b[0m\u001b[0m\n",
      "\u001b[1;32mF:\\python3.7\\lib\\site-packages\\wordcloud\\wordcloud.py\u001b[0m in \u001b[0;36mgenerate\u001b[1;34m(self, text)\u001b[0m\n\u001b[0;32m    603\u001b[0m         \u001b[0mself\u001b[0m\u001b[1;33m\u001b[0m\u001b[1;33m\u001b[0m\u001b[0m\n\u001b[0;32m    604\u001b[0m         \"\"\"\n\u001b[1;32m--> 605\u001b[1;33m         \u001b[1;32mreturn\u001b[0m \u001b[0mself\u001b[0m\u001b[1;33m.\u001b[0m\u001b[0mgenerate_from_text\u001b[0m\u001b[1;33m(\u001b[0m\u001b[0mtext\u001b[0m\u001b[1;33m)\u001b[0m\u001b[1;33m\u001b[0m\u001b[1;33m\u001b[0m\u001b[0m\n\u001b[0m\u001b[0;32m    606\u001b[0m \u001b[1;33m\u001b[0m\u001b[0m\n\u001b[0;32m    607\u001b[0m     \u001b[1;32mdef\u001b[0m \u001b[0m_check_generated\u001b[0m\u001b[1;33m(\u001b[0m\u001b[0mself\u001b[0m\u001b[1;33m)\u001b[0m\u001b[1;33m:\u001b[0m\u001b[1;33m\u001b[0m\u001b[1;33m\u001b[0m\u001b[0m\n",
      "\u001b[1;32mF:\\python3.7\\lib\\site-packages\\wordcloud\\wordcloud.py\u001b[0m in \u001b[0;36mgenerate_from_text\u001b[1;34m(self, text)\u001b[0m\n\u001b[0;32m    585\u001b[0m         \"\"\"\n\u001b[0;32m    586\u001b[0m         \u001b[0mwords\u001b[0m \u001b[1;33m=\u001b[0m \u001b[0mself\u001b[0m\u001b[1;33m.\u001b[0m\u001b[0mprocess_text\u001b[0m\u001b[1;33m(\u001b[0m\u001b[0mtext\u001b[0m\u001b[1;33m)\u001b[0m\u001b[1;33m\u001b[0m\u001b[1;33m\u001b[0m\u001b[0m\n\u001b[1;32m--> 587\u001b[1;33m         \u001b[0mself\u001b[0m\u001b[1;33m.\u001b[0m\u001b[0mgenerate_from_frequencies\u001b[0m\u001b[1;33m(\u001b[0m\u001b[0mwords\u001b[0m\u001b[1;33m)\u001b[0m\u001b[1;33m\u001b[0m\u001b[1;33m\u001b[0m\u001b[0m\n\u001b[0m\u001b[0;32m    588\u001b[0m         \u001b[1;32mreturn\u001b[0m \u001b[0mself\u001b[0m\u001b[1;33m\u001b[0m\u001b[1;33m\u001b[0m\u001b[0m\n\u001b[0;32m    589\u001b[0m \u001b[1;33m\u001b[0m\u001b[0m\n",
      "\u001b[1;32mF:\\python3.7\\lib\\site-packages\\wordcloud\\wordcloud.py\u001b[0m in \u001b[0;36mgenerate_from_frequencies\u001b[1;34m(self, frequencies, max_font_size)\u001b[0m\n\u001b[0;32m    381\u001b[0m         \u001b[1;32mif\u001b[0m \u001b[0mlen\u001b[0m\u001b[1;33m(\u001b[0m\u001b[0mfrequencies\u001b[0m\u001b[1;33m)\u001b[0m \u001b[1;33m<=\u001b[0m \u001b[1;36m0\u001b[0m\u001b[1;33m:\u001b[0m\u001b[1;33m\u001b[0m\u001b[1;33m\u001b[0m\u001b[0m\n\u001b[0;32m    382\u001b[0m             raise ValueError(\"We need at least 1 word to plot a word cloud, \"\n\u001b[1;32m--> 383\u001b[1;33m                              \"got %d.\" % len(frequencies))\n\u001b[0m\u001b[0;32m    384\u001b[0m         \u001b[0mfrequencies\u001b[0m \u001b[1;33m=\u001b[0m \u001b[0mfrequencies\u001b[0m\u001b[1;33m[\u001b[0m\u001b[1;33m:\u001b[0m\u001b[0mself\u001b[0m\u001b[1;33m.\u001b[0m\u001b[0mmax_words\u001b[0m\u001b[1;33m]\u001b[0m\u001b[1;33m\u001b[0m\u001b[1;33m\u001b[0m\u001b[0m\n\u001b[0;32m    385\u001b[0m \u001b[1;33m\u001b[0m\u001b[0m\n",
      "\u001b[1;31mValueError\u001b[0m: We need at least 1 word to plot a word cloud, got 0."
     ]
    }
   ],
   "source": [
    "from wordcloud import WordCloud\n",
    "import matplotlib.pyplot as plt #绘制图像的模块\n",
    "import  jieba #jieba分词\n",
    "\n",
    "path_txt='music.txt'\n",
    "f = open(path_txt,'r',encoding='UTF-8').read()\n",
    "\n",
    "# 结巴分词，生成字符串，wordcloud无法直接生成正确的中文词云\n",
    "cut_text = \" \".join(jieba.cut(f))\n",
    "\n",
    "wordcloud = WordCloud(\n",
    "   #设置字体，不然会出现口字乱码，文字的路径是电脑的字体一般路径，可以换成别的\n",
    "   font_path=\"msyh.ttc\",\n",
    "   #设置了背景，宽高\n",
    "   background_color=\"black\",width=2000,height=880).generate(cut_text)\n",
    "\n",
    "plt.imshow(wordcloud, interpolation=\"bilinear\")\n",
    "plt.axis(\"off\")\n",
    "plt.show()"
   ]
  },
  {
   "cell_type": "code",
   "execution_count": null,
   "metadata": {},
   "outputs": [],
   "source": []
  },
  {
   "cell_type": "code",
   "execution_count": 13,
   "metadata": {},
   "outputs": [
    {
     "ename": "ModuleNotFoundError",
     "evalue": "No module named 'Crypto'",
     "output_type": "error",
     "traceback": [
      "\u001b[1;31m---------------------------------------------------------------------------\u001b[0m",
      "\u001b[1;31mModuleNotFoundError\u001b[0m                       Traceback (most recent call last)",
      "\u001b[1;32m<ipython-input-13-0f7cb4877991>\u001b[0m in \u001b[0;36m<module>\u001b[1;34m\u001b[0m\n\u001b[0;32m      1\u001b[0m \u001b[1;33m\u001b[0m\u001b[0m\n\u001b[0;32m      2\u001b[0m \u001b[1;31m#coding = utf-8\u001b[0m\u001b[1;33m\u001b[0m\u001b[1;33m\u001b[0m\u001b[1;33m\u001b[0m\u001b[0m\n\u001b[1;32m----> 3\u001b[1;33m \u001b[1;32mfrom\u001b[0m \u001b[0mCrypto\u001b[0m\u001b[1;33m.\u001b[0m\u001b[0mCipher\u001b[0m \u001b[1;32mimport\u001b[0m \u001b[0mAES\u001b[0m\u001b[1;33m\u001b[0m\u001b[1;33m\u001b[0m\u001b[0m\n\u001b[0m\u001b[0;32m      4\u001b[0m \u001b[1;32mimport\u001b[0m \u001b[0mbase64\u001b[0m\u001b[1;33m\u001b[0m\u001b[1;33m\u001b[0m\u001b[0m\n\u001b[0;32m      5\u001b[0m \u001b[1;32mimport\u001b[0m \u001b[0mrequests\u001b[0m\u001b[1;33m\u001b[0m\u001b[1;33m\u001b[0m\u001b[0m\n",
      "\u001b[1;31mModuleNotFoundError\u001b[0m: No module named 'Crypto'"
     ]
    }
   ],
   "source": [
    "\n",
    "#coding = utf-8\n",
    "from Crypto.Cipher import AES\n",
    "import base64\n",
    "import requests\n",
    "import json\n",
    "\n",
    "\n",
    "headers = {\n",
    "    'Cookie': 'appver=1.5.0.75771;',\n",
    "    'Referer': 'http://music.163.com/'\n",
    "}\n",
    "\n",
    "first_param = \"{rid:\\\"\\\", offset:\\\"0\\\", total:\\\"true\\\", limit:\\\"20\\\", csrf_token:\\\"\\\"}\"\n",
    "second_param = \"010001\"\n",
    "third_param = \"00e0b509f6259df8642dbc35662901477df22677ec152b5ff68ace615bb7b725152b3ab17a876aea8a5aa76d2e417629ec4ee341f56135fccf695280104e0312ecbda92557c93870114af6c9d05c4f7f0c3685b7a46bee255932575cce10b424d813cfe4875d3e82047b97ddef52741d546b8e289dc6935b3ece0462db0a22b8e7\"\n",
    "forth_param = \"0CoJUm6Qyw8W8jud\"\n",
    "\n",
    "def get_params():\n",
    "    iv = \"0102030405060708\"\n",
    "    first_key = forth_param\n",
    "    second_key = 16 * 'F'\n",
    "    h_encText = AES_encrypt(first_param, first_key, iv)\n",
    "    h_encText = AES_encrypt(h_encText, second_key, iv)\n",
    "    return h_encText\n",
    "\n",
    "\n",
    "def get_encSecKey():\n",
    "    encSecKey = \"257348aecb5e556c066de214e531faadd1c55d814f9be95fd06d6bff9f4c7a41f831f6394d5a3fd2e3881736d94a02ca919d952872e7d0a50ebfa1769a7a62d512f5f1ca21aec60bc3819a9c3ffca5eca9a0dba6d6f7249b06f5965ecfff3695b54e1c28f3f624750ed39e7de08fc8493242e26dbc4484a01c76f739e135637c\"\n",
    "    return encSecKey\n",
    "    \n",
    "\n",
    "def AES_encrypt(text, key, iv):\n",
    "    pad = 16 - len(text) % 16\n",
    "    text = text + pad * chr(pad)\n",
    "    encryptor = AES.new(key, AES.MODE_CBC, iv)\n",
    "    encrypt_text = encryptor.encrypt(text)\n",
    "    encrypt_text = base64.b64encode(encrypt_text)\n",
    "    return encrypt_text\n",
    "\n",
    "\n",
    "def get_json(url, params, encSecKey):\n",
    "    data = {\n",
    "         \"params\": params,\n",
    "         \"encSecKey\": encSecKey\n",
    "    }\n",
    "    response = requests.post(url, headers=headers, data=data)\n",
    "    return response.content\n",
    "\n",
    "\n",
    "if __name__ == \"__main__\":\n",
    "    url = \"http://music.163.com/weapi/v1/resource/comments/R_SO_4_30953009/?csrf_token=\"\n",
    "    params = get_params();\n",
    "    encSecKey = get_encSecKey();\n",
    "    json_text = get_json(url, params, encSecKey)\n",
    "    json_dict = json.loads(json_text)\n",
    "    print(json_dict['total'])\n",
    "    for item in json_dict['comments']:\n",
    "        print(item['content'].encode('gbk', 'ignore'))"
   ]
  },
  {
   "cell_type": "code",
   "execution_count": null,
   "metadata": {},
   "outputs": [],
   "source": []
  }
 ],
 "metadata": {
  "kernelspec": {
   "display_name": "Python 3.7.1 64-bit",
   "language": "python",
   "name": "python37164bitc30ebac97ce748f3add5054e36293990"
  },
  "language_info": {
   "codemirror_mode": {
    "name": "ipython",
    "version": 3
   },
   "file_extension": ".py",
   "mimetype": "text/x-python",
   "name": "python",
   "nbconvert_exporter": "python",
   "pygments_lexer": "ipython3",
   "version": "3.7.1"
  }
 },
 "nbformat": 4,
 "nbformat_minor": 2
}
